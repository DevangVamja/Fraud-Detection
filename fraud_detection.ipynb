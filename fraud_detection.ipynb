{
  "nbformat": 4,
  "nbformat_minor": 0,
  "metadata": {
    "colab": {
      "name": "fraud_detection.ipynb",
      "provenance": [],
      "collapsed_sections": [],
      "include_colab_link": true
    },
    "kernelspec": {
      "name": "python3",
      "display_name": "Python 3"
    }
  },
  "cells": [
    {
      "cell_type": "markdown",
      "metadata": {
        "id": "view-in-github",
        "colab_type": "text"
      },
      "source": [
        "<a href=\"https://colab.research.google.com/github/DevangVamja/probable-1/blob/main/fraud_detection.ipynb\" target=\"_parent\"><img src=\"https://colab.research.google.com/assets/colab-badge.svg\" alt=\"Open In Colab\"/></a>"
      ]
    },
    {
      "cell_type": "code",
      "metadata": {
        "id": "KkQvLZwNlKtZ"
      },
      "source": [
        "# Code to read csv file into colaboratory:\n",
        "!pip install -U -q PyDrive\n",
        "from pydrive.auth import GoogleAuth\n",
        "from pydrive.drive import GoogleDrive\n",
        "from google.colab import auth\n",
        "from oauth2client.client import GoogleCredentials"
      ],
      "execution_count": 2,
      "outputs": []
    },
    {
      "cell_type": "code",
      "metadata": {
        "id": "mlFg-T15lR3W"
      },
      "source": [
        "\n",
        "auth.authenticate_user()\n",
        "gauth = GoogleAuth()\n",
        "gauth.credentials = GoogleCredentials.get_application_default()\n",
        "drive = GoogleDrive(gauth)"
      ],
      "execution_count": 3,
      "outputs": []
    },
    {
      "cell_type": "code",
      "metadata": {
        "id": "twlMUP-4mURy"
      },
      "source": [
        "#2.1 Get the file\n",
        "downloaded = drive.CreateFile({'id':'12LDbiRh_SM2b3ym0hO_1RSJpS59OcBO8'}) # replace the id with id of file you want to access\n",
        "downloaded.GetContentFile('database.csv')"
      ],
      "execution_count": 4,
      "outputs": []
    },
    {
      "cell_type": "code",
      "metadata": {
        "id": "aN7x8b4kcSXv"
      },
      "source": [
        "import tensorflow as tf\n",
        "from tensorflow import keras\n",
        "from tensorflow.keras import Sequential\n",
        "from tensorflow.keras.layers import Flatten,Dense,Dropout,BatchNormalization\n",
        "from tensorflow.keras.layers import Conv1D,MaxPool1D\n",
        "from tensorflow.keras.optimizers import Adam"
      ],
      "execution_count": 5,
      "outputs": []
    },
    {
      "cell_type": "code",
      "metadata": {
        "id": "NYqPI50GdAJE"
      },
      "source": [
        "import pandas as pd\n",
        "import numpy as np\n",
        "import seaborn as sns\n",
        "import matplotlib.pyplot as plt\n",
        "from  sklearn.model_selection import train_test_split\n",
        "from sklearn.preprocessing import StandardScaler"
      ],
      "execution_count": 6,
      "outputs": []
    },
    {
      "cell_type": "code",
      "metadata": {
        "id": "6xjJWEgKddUK",
        "outputId": "139103fc-fcab-4047-d4d6-83587faf8b3c",
        "colab": {
          "base_uri": "https://localhost:8080/",
          "height": 195
        }
      },
      "source": [
        "data=pd.read_csv('database.csv')\n",
        "data.head()"
      ],
      "execution_count": 7,
      "outputs": [
        {
          "output_type": "execute_result",
          "data": {
            "text/html": [
              "<div>\n",
              "<style scoped>\n",
              "    .dataframe tbody tr th:only-of-type {\n",
              "        vertical-align: middle;\n",
              "    }\n",
              "\n",
              "    .dataframe tbody tr th {\n",
              "        vertical-align: top;\n",
              "    }\n",
              "\n",
              "    .dataframe thead th {\n",
              "        text-align: right;\n",
              "    }\n",
              "</style>\n",
              "<table border=\"1\" class=\"dataframe\">\n",
              "  <thead>\n",
              "    <tr style=\"text-align: right;\">\n",
              "      <th></th>\n",
              "      <th>step</th>\n",
              "      <th>type</th>\n",
              "      <th>amount</th>\n",
              "      <th>nameOrig</th>\n",
              "      <th>oldbalanceOrg</th>\n",
              "      <th>newbalanceOrig</th>\n",
              "      <th>nameDest</th>\n",
              "      <th>oldbalanceDest</th>\n",
              "      <th>newbalanceDest</th>\n",
              "      <th>isFraud</th>\n",
              "      <th>isFlaggedFraud</th>\n",
              "    </tr>\n",
              "  </thead>\n",
              "  <tbody>\n",
              "    <tr>\n",
              "      <th>0</th>\n",
              "      <td>1</td>\n",
              "      <td>PAYMENT</td>\n",
              "      <td>9839.64</td>\n",
              "      <td>C1231006815</td>\n",
              "      <td>170136.0</td>\n",
              "      <td>160296.36</td>\n",
              "      <td>M1979787155</td>\n",
              "      <td>0.0</td>\n",
              "      <td>0.0</td>\n",
              "      <td>0</td>\n",
              "      <td>0</td>\n",
              "    </tr>\n",
              "    <tr>\n",
              "      <th>1</th>\n",
              "      <td>1</td>\n",
              "      <td>PAYMENT</td>\n",
              "      <td>1864.28</td>\n",
              "      <td>C1666544295</td>\n",
              "      <td>21249.0</td>\n",
              "      <td>19384.72</td>\n",
              "      <td>M2044282225</td>\n",
              "      <td>0.0</td>\n",
              "      <td>0.0</td>\n",
              "      <td>0</td>\n",
              "      <td>0</td>\n",
              "    </tr>\n",
              "    <tr>\n",
              "      <th>2</th>\n",
              "      <td>1</td>\n",
              "      <td>TRANSFER</td>\n",
              "      <td>181.00</td>\n",
              "      <td>C1305486145</td>\n",
              "      <td>181.0</td>\n",
              "      <td>0.00</td>\n",
              "      <td>C553264065</td>\n",
              "      <td>0.0</td>\n",
              "      <td>0.0</td>\n",
              "      <td>1</td>\n",
              "      <td>0</td>\n",
              "    </tr>\n",
              "    <tr>\n",
              "      <th>3</th>\n",
              "      <td>1</td>\n",
              "      <td>CASH_OUT</td>\n",
              "      <td>181.00</td>\n",
              "      <td>C840083671</td>\n",
              "      <td>181.0</td>\n",
              "      <td>0.00</td>\n",
              "      <td>C38997010</td>\n",
              "      <td>21182.0</td>\n",
              "      <td>0.0</td>\n",
              "      <td>1</td>\n",
              "      <td>0</td>\n",
              "    </tr>\n",
              "    <tr>\n",
              "      <th>4</th>\n",
              "      <td>1</td>\n",
              "      <td>PAYMENT</td>\n",
              "      <td>11668.14</td>\n",
              "      <td>C2048537720</td>\n",
              "      <td>41554.0</td>\n",
              "      <td>29885.86</td>\n",
              "      <td>M1230701703</td>\n",
              "      <td>0.0</td>\n",
              "      <td>0.0</td>\n",
              "      <td>0</td>\n",
              "      <td>0</td>\n",
              "    </tr>\n",
              "  </tbody>\n",
              "</table>\n",
              "</div>"
            ],
            "text/plain": [
              "   step      type    amount  ... newbalanceDest  isFraud  isFlaggedFraud\n",
              "0     1   PAYMENT   9839.64  ...            0.0        0               0\n",
              "1     1   PAYMENT   1864.28  ...            0.0        0               0\n",
              "2     1  TRANSFER    181.00  ...            0.0        1               0\n",
              "3     1  CASH_OUT    181.00  ...            0.0        1               0\n",
              "4     1   PAYMENT  11668.14  ...            0.0        0               0\n",
              "\n",
              "[5 rows x 11 columns]"
            ]
          },
          "metadata": {
            "tags": []
          },
          "execution_count": 7
        }
      ]
    },
    {
      "cell_type": "code",
      "metadata": {
        "id": "gJpdYpd8VW0S",
        "outputId": "114764cd-09f3-431b-bc68-21f185b0937d",
        "colab": {
          "base_uri": "https://localhost:8080/"
        }
      },
      "source": [
        "data.shape"
      ],
      "execution_count": 8,
      "outputs": [
        {
          "output_type": "execute_result",
          "data": {
            "text/plain": [
              "(6362620, 11)"
            ]
          },
          "metadata": {
            "tags": []
          },
          "execution_count": 8
        }
      ]
    },
    {
      "cell_type": "code",
      "metadata": {
        "id": "cnJC_QhAVUpD",
        "outputId": "dd6a98a4-9fd2-4873-833c-bb9f89d3bf74",
        "colab": {
          "base_uri": "https://localhost:8080/"
        }
      },
      "source": [
        "data.isnull().sum()"
      ],
      "execution_count": 9,
      "outputs": [
        {
          "output_type": "execute_result",
          "data": {
            "text/plain": [
              "step              0\n",
              "type              0\n",
              "amount            0\n",
              "nameOrig          0\n",
              "oldbalanceOrg     0\n",
              "newbalanceOrig    0\n",
              "nameDest          0\n",
              "oldbalanceDest    0\n",
              "newbalanceDest    0\n",
              "isFraud           0\n",
              "isFlaggedFraud    0\n",
              "dtype: int64"
            ]
          },
          "metadata": {
            "tags": []
          },
          "execution_count": 9
        }
      ]
    },
    {
      "cell_type": "code",
      "metadata": {
        "id": "L72pDUX0Vkj7",
        "outputId": "e717e543-9016-434c-d223-dee86742d914",
        "colab": {
          "base_uri": "https://localhost:8080/"
        }
      },
      "source": [
        "data.info()"
      ],
      "execution_count": 10,
      "outputs": [
        {
          "output_type": "stream",
          "text": [
            "<class 'pandas.core.frame.DataFrame'>\n",
            "RangeIndex: 6362620 entries, 0 to 6362619\n",
            "Data columns (total 11 columns):\n",
            " #   Column          Dtype  \n",
            "---  ------          -----  \n",
            " 0   step            int64  \n",
            " 1   type            object \n",
            " 2   amount          float64\n",
            " 3   nameOrig        object \n",
            " 4   oldbalanceOrg   float64\n",
            " 5   newbalanceOrig  float64\n",
            " 6   nameDest        object \n",
            " 7   oldbalanceDest  float64\n",
            " 8   newbalanceDest  float64\n",
            " 9   isFraud         int64  \n",
            " 10  isFlaggedFraud  int64  \n",
            "dtypes: float64(5), int64(3), object(3)\n",
            "memory usage: 534.0+ MB\n"
          ],
          "name": "stdout"
        }
      ]
    },
    {
      "cell_type": "code",
      "metadata": {
        "id": "gV6KxA2BVvCg",
        "outputId": "fd9ddbc1-4024-4ca4-8b1c-972841703805",
        "colab": {
          "base_uri": "https://localhost:8080/"
        }
      },
      "source": [
        "data['isFraud'].value_counts()"
      ],
      "execution_count": 11,
      "outputs": [
        {
          "output_type": "execute_result",
          "data": {
            "text/plain": [
              "0    6354407\n",
              "1       8213\n",
              "Name: isFraud, dtype: int64"
            ]
          },
          "metadata": {
            "tags": []
          },
          "execution_count": 11
        }
      ]
    },
    {
      "cell_type": "markdown",
      "metadata": {
        "id": "Meu0WIT8W3Mq"
      },
      "source": [
        "balance dataset\n"
      ]
    },
    {
      "cell_type": "code",
      "metadata": {
        "id": "_SwVkezZBmYw",
        "outputId": "5922922a-97ff-4825-9652-36baebc240ca",
        "colab": {
          "base_uri": "https://localhost:8080/",
          "height": 455
        }
      },
      "source": [
        "from statsmodels.tools import categorical\n",
        "\n",
        "# 1. Keep only interested transaction type ('TRANSFER', 'CASH_OUT')\n",
        "# 2. Drop some columns\n",
        "# 3. Convert categorical variables to numeric variable\n",
        "tmp = data.loc[(data['type'].isin(['TRANSFER', 'CASH_OUT'])),:]\n",
        "tmp = tmp.reset_index(drop=True)\n",
        "a = np.array(tmp['type'])\n",
        "b = categorical(a, drop=True)\n",
        "tmp['type_num'] = b.argmax(1)\n",
        "tmp.drop(['step', 'nameOrig', 'nameDest', 'isFlaggedFraud','type'], axis=1, inplace=True)\n",
        "\n",
        "tmp"
      ],
      "execution_count": 12,
      "outputs": [
        {
          "output_type": "stream",
          "text": [
            "/usr/local/lib/python3.6/dist-packages/statsmodels/tools/_testing.py:19: FutureWarning: pandas.util.testing is deprecated. Use the functions in the public API at pandas.testing instead.\n",
            "  import pandas.util.testing as tm\n"
          ],
          "name": "stderr"
        },
        {
          "output_type": "execute_result",
          "data": {
            "text/html": [
              "<div>\n",
              "<style scoped>\n",
              "    .dataframe tbody tr th:only-of-type {\n",
              "        vertical-align: middle;\n",
              "    }\n",
              "\n",
              "    .dataframe tbody tr th {\n",
              "        vertical-align: top;\n",
              "    }\n",
              "\n",
              "    .dataframe thead th {\n",
              "        text-align: right;\n",
              "    }\n",
              "</style>\n",
              "<table border=\"1\" class=\"dataframe\">\n",
              "  <thead>\n",
              "    <tr style=\"text-align: right;\">\n",
              "      <th></th>\n",
              "      <th>amount</th>\n",
              "      <th>oldbalanceOrg</th>\n",
              "      <th>newbalanceOrig</th>\n",
              "      <th>oldbalanceDest</th>\n",
              "      <th>newbalanceDest</th>\n",
              "      <th>isFraud</th>\n",
              "      <th>type_num</th>\n",
              "    </tr>\n",
              "  </thead>\n",
              "  <tbody>\n",
              "    <tr>\n",
              "      <th>0</th>\n",
              "      <td>181.00</td>\n",
              "      <td>181.00</td>\n",
              "      <td>0.0</td>\n",
              "      <td>0.00</td>\n",
              "      <td>0.00</td>\n",
              "      <td>1</td>\n",
              "      <td>1</td>\n",
              "    </tr>\n",
              "    <tr>\n",
              "      <th>1</th>\n",
              "      <td>181.00</td>\n",
              "      <td>181.00</td>\n",
              "      <td>0.0</td>\n",
              "      <td>21182.00</td>\n",
              "      <td>0.00</td>\n",
              "      <td>1</td>\n",
              "      <td>0</td>\n",
              "    </tr>\n",
              "    <tr>\n",
              "      <th>2</th>\n",
              "      <td>229133.94</td>\n",
              "      <td>15325.00</td>\n",
              "      <td>0.0</td>\n",
              "      <td>5083.00</td>\n",
              "      <td>51513.44</td>\n",
              "      <td>0</td>\n",
              "      <td>0</td>\n",
              "    </tr>\n",
              "    <tr>\n",
              "      <th>3</th>\n",
              "      <td>215310.30</td>\n",
              "      <td>705.00</td>\n",
              "      <td>0.0</td>\n",
              "      <td>22425.00</td>\n",
              "      <td>0.00</td>\n",
              "      <td>0</td>\n",
              "      <td>1</td>\n",
              "    </tr>\n",
              "    <tr>\n",
              "      <th>4</th>\n",
              "      <td>311685.89</td>\n",
              "      <td>10835.00</td>\n",
              "      <td>0.0</td>\n",
              "      <td>6267.00</td>\n",
              "      <td>2719172.89</td>\n",
              "      <td>0</td>\n",
              "      <td>1</td>\n",
              "    </tr>\n",
              "    <tr>\n",
              "      <th>...</th>\n",
              "      <td>...</td>\n",
              "      <td>...</td>\n",
              "      <td>...</td>\n",
              "      <td>...</td>\n",
              "      <td>...</td>\n",
              "      <td>...</td>\n",
              "      <td>...</td>\n",
              "    </tr>\n",
              "    <tr>\n",
              "      <th>2770404</th>\n",
              "      <td>339682.13</td>\n",
              "      <td>339682.13</td>\n",
              "      <td>0.0</td>\n",
              "      <td>0.00</td>\n",
              "      <td>339682.13</td>\n",
              "      <td>1</td>\n",
              "      <td>0</td>\n",
              "    </tr>\n",
              "    <tr>\n",
              "      <th>2770405</th>\n",
              "      <td>6311409.28</td>\n",
              "      <td>6311409.28</td>\n",
              "      <td>0.0</td>\n",
              "      <td>0.00</td>\n",
              "      <td>0.00</td>\n",
              "      <td>1</td>\n",
              "      <td>1</td>\n",
              "    </tr>\n",
              "    <tr>\n",
              "      <th>2770406</th>\n",
              "      <td>6311409.28</td>\n",
              "      <td>6311409.28</td>\n",
              "      <td>0.0</td>\n",
              "      <td>68488.84</td>\n",
              "      <td>6379898.11</td>\n",
              "      <td>1</td>\n",
              "      <td>0</td>\n",
              "    </tr>\n",
              "    <tr>\n",
              "      <th>2770407</th>\n",
              "      <td>850002.52</td>\n",
              "      <td>850002.52</td>\n",
              "      <td>0.0</td>\n",
              "      <td>0.00</td>\n",
              "      <td>0.00</td>\n",
              "      <td>1</td>\n",
              "      <td>1</td>\n",
              "    </tr>\n",
              "    <tr>\n",
              "      <th>2770408</th>\n",
              "      <td>850002.52</td>\n",
              "      <td>850002.52</td>\n",
              "      <td>0.0</td>\n",
              "      <td>6510099.11</td>\n",
              "      <td>7360101.63</td>\n",
              "      <td>1</td>\n",
              "      <td>0</td>\n",
              "    </tr>\n",
              "  </tbody>\n",
              "</table>\n",
              "<p>2770409 rows × 7 columns</p>\n",
              "</div>"
            ],
            "text/plain": [
              "             amount  oldbalanceOrg  ...  isFraud  type_num\n",
              "0            181.00         181.00  ...        1         1\n",
              "1            181.00         181.00  ...        1         0\n",
              "2         229133.94       15325.00  ...        0         0\n",
              "3         215310.30         705.00  ...        0         1\n",
              "4         311685.89       10835.00  ...        0         1\n",
              "...             ...            ...  ...      ...       ...\n",
              "2770404   339682.13      339682.13  ...        1         0\n",
              "2770405  6311409.28     6311409.28  ...        1         1\n",
              "2770406  6311409.28     6311409.28  ...        1         0\n",
              "2770407   850002.52      850002.52  ...        1         1\n",
              "2770408   850002.52      850002.52  ...        1         0\n",
              "\n",
              "[2770409 rows x 7 columns]"
            ]
          },
          "metadata": {
            "tags": []
          },
          "execution_count": 12
        }
      ]
    },
    {
      "cell_type": "code",
      "metadata": {
        "id": "1wLcPE0KW4Ud"
      },
      "source": [
        "non_fraud=tmp[tmp['isFraud']==0]\n",
        "fraud=tmp[tmp['isFraud']==1]"
      ],
      "execution_count": 13,
      "outputs": []
    },
    {
      "cell_type": "code",
      "metadata": {
        "id": "zVmai6mpXInm",
        "outputId": "7ec9c487-39c3-480b-cf00-2d3b7214f092",
        "colab": {
          "base_uri": "https://localhost:8080/"
        }
      },
      "source": [
        "non_fraud.shape,fraud.shape"
      ],
      "execution_count": 14,
      "outputs": [
        {
          "output_type": "execute_result",
          "data": {
            "text/plain": [
              "((2762196, 7), (8213, 7))"
            ]
          },
          "metadata": {
            "tags": []
          },
          "execution_count": 14
        }
      ]
    },
    {
      "cell_type": "code",
      "metadata": {
        "id": "1sDVbRAkXORV",
        "outputId": "92bfd37b-8447-4228-dac6-67b8e1aa2ec1",
        "colab": {
          "base_uri": "https://localhost:8080/"
        }
      },
      "source": [
        "non_fraud=non_fraud.sample(fraud.shape[0])\n",
        "non_fraud.shape"
      ],
      "execution_count": 15,
      "outputs": [
        {
          "output_type": "execute_result",
          "data": {
            "text/plain": [
              "(8213, 7)"
            ]
          },
          "metadata": {
            "tags": []
          },
          "execution_count": 15
        }
      ]
    },
    {
      "cell_type": "code",
      "metadata": {
        "id": "saNpb-KDXtUG",
        "outputId": "28475833-937b-4f07-e1a7-4ce16bf8ae40",
        "colab": {
          "base_uri": "https://localhost:8080/",
          "height": 402
        }
      },
      "source": [
        "tmp=fraud.append(non_fraud,ignore_index=True)\n",
        "tmp"
      ],
      "execution_count": 16,
      "outputs": [
        {
          "output_type": "execute_result",
          "data": {
            "text/html": [
              "<div>\n",
              "<style scoped>\n",
              "    .dataframe tbody tr th:only-of-type {\n",
              "        vertical-align: middle;\n",
              "    }\n",
              "\n",
              "    .dataframe tbody tr th {\n",
              "        vertical-align: top;\n",
              "    }\n",
              "\n",
              "    .dataframe thead th {\n",
              "        text-align: right;\n",
              "    }\n",
              "</style>\n",
              "<table border=\"1\" class=\"dataframe\">\n",
              "  <thead>\n",
              "    <tr style=\"text-align: right;\">\n",
              "      <th></th>\n",
              "      <th>amount</th>\n",
              "      <th>oldbalanceOrg</th>\n",
              "      <th>newbalanceOrig</th>\n",
              "      <th>oldbalanceDest</th>\n",
              "      <th>newbalanceDest</th>\n",
              "      <th>isFraud</th>\n",
              "      <th>type_num</th>\n",
              "    </tr>\n",
              "  </thead>\n",
              "  <tbody>\n",
              "    <tr>\n",
              "      <th>0</th>\n",
              "      <td>181.00</td>\n",
              "      <td>181.0</td>\n",
              "      <td>0.00</td>\n",
              "      <td>0.00</td>\n",
              "      <td>0.00</td>\n",
              "      <td>1</td>\n",
              "      <td>1</td>\n",
              "    </tr>\n",
              "    <tr>\n",
              "      <th>1</th>\n",
              "      <td>181.00</td>\n",
              "      <td>181.0</td>\n",
              "      <td>0.00</td>\n",
              "      <td>21182.00</td>\n",
              "      <td>0.00</td>\n",
              "      <td>1</td>\n",
              "      <td>0</td>\n",
              "    </tr>\n",
              "    <tr>\n",
              "      <th>2</th>\n",
              "      <td>2806.00</td>\n",
              "      <td>2806.0</td>\n",
              "      <td>0.00</td>\n",
              "      <td>0.00</td>\n",
              "      <td>0.00</td>\n",
              "      <td>1</td>\n",
              "      <td>1</td>\n",
              "    </tr>\n",
              "    <tr>\n",
              "      <th>3</th>\n",
              "      <td>2806.00</td>\n",
              "      <td>2806.0</td>\n",
              "      <td>0.00</td>\n",
              "      <td>26202.00</td>\n",
              "      <td>0.00</td>\n",
              "      <td>1</td>\n",
              "      <td>0</td>\n",
              "    </tr>\n",
              "    <tr>\n",
              "      <th>4</th>\n",
              "      <td>20128.00</td>\n",
              "      <td>20128.0</td>\n",
              "      <td>0.00</td>\n",
              "      <td>0.00</td>\n",
              "      <td>0.00</td>\n",
              "      <td>1</td>\n",
              "      <td>1</td>\n",
              "    </tr>\n",
              "    <tr>\n",
              "      <th>...</th>\n",
              "      <td>...</td>\n",
              "      <td>...</td>\n",
              "      <td>...</td>\n",
              "      <td>...</td>\n",
              "      <td>...</td>\n",
              "      <td>...</td>\n",
              "      <td>...</td>\n",
              "    </tr>\n",
              "    <tr>\n",
              "      <th>16421</th>\n",
              "      <td>500674.23</td>\n",
              "      <td>9078.0</td>\n",
              "      <td>0.00</td>\n",
              "      <td>229082.15</td>\n",
              "      <td>729756.37</td>\n",
              "      <td>0</td>\n",
              "      <td>0</td>\n",
              "    </tr>\n",
              "    <tr>\n",
              "      <th>16422</th>\n",
              "      <td>228901.27</td>\n",
              "      <td>5086.0</td>\n",
              "      <td>0.00</td>\n",
              "      <td>1306589.74</td>\n",
              "      <td>1535491.02</td>\n",
              "      <td>0</td>\n",
              "      <td>0</td>\n",
              "    </tr>\n",
              "    <tr>\n",
              "      <th>16423</th>\n",
              "      <td>239962.12</td>\n",
              "      <td>60909.0</td>\n",
              "      <td>0.00</td>\n",
              "      <td>3545138.67</td>\n",
              "      <td>3785100.79</td>\n",
              "      <td>0</td>\n",
              "      <td>0</td>\n",
              "    </tr>\n",
              "    <tr>\n",
              "      <th>16424</th>\n",
              "      <td>95156.44</td>\n",
              "      <td>103154.0</td>\n",
              "      <td>7997.56</td>\n",
              "      <td>954.00</td>\n",
              "      <td>2340997.58</td>\n",
              "      <td>0</td>\n",
              "      <td>0</td>\n",
              "    </tr>\n",
              "    <tr>\n",
              "      <th>16425</th>\n",
              "      <td>287523.49</td>\n",
              "      <td>32268.0</td>\n",
              "      <td>0.00</td>\n",
              "      <td>297443.78</td>\n",
              "      <td>584967.27</td>\n",
              "      <td>0</td>\n",
              "      <td>0</td>\n",
              "    </tr>\n",
              "  </tbody>\n",
              "</table>\n",
              "<p>16426 rows × 7 columns</p>\n",
              "</div>"
            ],
            "text/plain": [
              "          amount  oldbalanceOrg  ...  isFraud  type_num\n",
              "0         181.00          181.0  ...        1         1\n",
              "1         181.00          181.0  ...        1         0\n",
              "2        2806.00         2806.0  ...        1         1\n",
              "3        2806.00         2806.0  ...        1         0\n",
              "4       20128.00        20128.0  ...        1         1\n",
              "...          ...            ...  ...      ...       ...\n",
              "16421  500674.23         9078.0  ...        0         0\n",
              "16422  228901.27         5086.0  ...        0         0\n",
              "16423  239962.12        60909.0  ...        0         0\n",
              "16424   95156.44       103154.0  ...        0         0\n",
              "16425  287523.49        32268.0  ...        0         0\n",
              "\n",
              "[16426 rows x 7 columns]"
            ]
          },
          "metadata": {
            "tags": []
          },
          "execution_count": 16
        }
      ]
    },
    {
      "cell_type": "code",
      "metadata": {
        "id": "EL0tRzRK4Zuw",
        "outputId": "61e5657e-9c2d-4611-8ce9-cb1cff2a8dcf",
        "colab": {
          "base_uri": "https://localhost:8080/"
        }
      },
      "source": [
        "tmp['isFraud'].value_counts()"
      ],
      "execution_count": 17,
      "outputs": [
        {
          "output_type": "execute_result",
          "data": {
            "text/plain": [
              "1    8213\n",
              "0    8213\n",
              "Name: isFraud, dtype: int64"
            ]
          },
          "metadata": {
            "tags": []
          },
          "execution_count": 17
        }
      ]
    },
    {
      "cell_type": "code",
      "metadata": {
        "id": "g_w6TJs_YN16"
      },
      "source": [
        "x=tmp.drop('isFraud',axis=1)\n",
        "y=tmp['isFraud']"
      ],
      "execution_count": 18,
      "outputs": []
    },
    {
      "cell_type": "code",
      "metadata": {
        "id": "wS5YxqYbYWls",
        "outputId": "3071022e-0eff-4ea5-a76a-a9779fe2b8f1",
        "colab": {
          "base_uri": "https://localhost:8080/"
        }
      },
      "source": [
        "x_train,x_test,y_train,y_test=train_test_split(x,y,test_size=0.2,random_state=0,stratify=y)\n",
        "x_train.shape,x_test.shape"
      ],
      "execution_count": 19,
      "outputs": [
        {
          "output_type": "execute_result",
          "data": {
            "text/plain": [
              "((13140, 6), (3286, 6))"
            ]
          },
          "metadata": {
            "tags": []
          },
          "execution_count": 19
        }
      ]
    },
    {
      "cell_type": "code",
      "metadata": {
        "id": "Ency9RPYYu6d"
      },
      "source": [
        "scaler=StandardScaler()\n",
        "x_train=scaler.fit_transform(x_train)\n",
        "x_test=scaler.transform(x_test)"
      ],
      "execution_count": 20,
      "outputs": []
    },
    {
      "cell_type": "code",
      "metadata": {
        "id": "zQqdYDHZZSXo"
      },
      "source": [
        "y_train=y_train.to_numpy()\n",
        "y_test=y_test.to_numpy()\n"
      ],
      "execution_count": 21,
      "outputs": []
    },
    {
      "cell_type": "code",
      "metadata": {
        "id": "luTPoCszZbNy"
      },
      "source": [
        "x_train=x_train.reshape(x_train.shape[0],x_train.shape[1],1)\n",
        "x_test=x_test.reshape(x_test.shape[0],x_test.shape[1],1)"
      ],
      "execution_count": 22,
      "outputs": []
    },
    {
      "cell_type": "code",
      "metadata": {
        "id": "SSQeS0yglcbh",
        "outputId": "dfe461ac-06e9-4a13-e032-7f41203a2d8e",
        "colab": {
          "base_uri": "https://localhost:8080/"
        }
      },
      "source": [
        "x_train.shape,x_test.shape"
      ],
      "execution_count": 23,
      "outputs": [
        {
          "output_type": "execute_result",
          "data": {
            "text/plain": [
              "((13140, 6, 1), (3286, 6, 1))"
            ]
          },
          "metadata": {
            "tags": []
          },
          "execution_count": 23
        }
      ]
    },
    {
      "cell_type": "markdown",
      "metadata": {
        "id": "CfWT6_l6Z3V2"
      },
      "source": [
        "model\n"
      ]
    },
    {
      "cell_type": "code",
      "metadata": {
        "id": "NabHJrK2Z6R1"
      },
      "source": [
        "epochs=25\n",
        "model=Sequential()\n",
        "model.add(Conv1D(32,2,activation='relu',input_shape=x_train[0].shape))\n",
        "model.add(BatchNormalization())\n",
        "model.add(Dropout(0.2))\n",
        "\n",
        "model.add(Conv1D(64,2,activation='sigmoid'))\n",
        "model.add(BatchNormalization())\n",
        "model.add(Dropout(0.5))\n",
        "\n",
        "model.add(Flatten())\n",
        "model.add(Dense(64,activation='sigmoid'))\n",
        "model.add(Dropout(0.5))\n",
        "\n",
        "model.add(Dense(1,activation='sigmoid'))\n"
      ],
      "execution_count": 24,
      "outputs": []
    },
    {
      "cell_type": "code",
      "metadata": {
        "id": "mPdEveOlawIs",
        "outputId": "90be2da0-7cc2-46b2-d014-0bb716fcc407",
        "colab": {
          "base_uri": "https://localhost:8080/"
        }
      },
      "source": [
        "model.summary()"
      ],
      "execution_count": 25,
      "outputs": [
        {
          "output_type": "stream",
          "text": [
            "Model: \"sequential\"\n",
            "_________________________________________________________________\n",
            "Layer (type)                 Output Shape              Param #   \n",
            "=================================================================\n",
            "conv1d (Conv1D)              (None, 5, 32)             96        \n",
            "_________________________________________________________________\n",
            "batch_normalization (BatchNo (None, 5, 32)             128       \n",
            "_________________________________________________________________\n",
            "dropout (Dropout)            (None, 5, 32)             0         \n",
            "_________________________________________________________________\n",
            "conv1d_1 (Conv1D)            (None, 4, 64)             4160      \n",
            "_________________________________________________________________\n",
            "batch_normalization_1 (Batch (None, 4, 64)             256       \n",
            "_________________________________________________________________\n",
            "dropout_1 (Dropout)          (None, 4, 64)             0         \n",
            "_________________________________________________________________\n",
            "flatten (Flatten)            (None, 256)               0         \n",
            "_________________________________________________________________\n",
            "dense (Dense)                (None, 64)                16448     \n",
            "_________________________________________________________________\n",
            "dropout_2 (Dropout)          (None, 64)                0         \n",
            "_________________________________________________________________\n",
            "dense_1 (Dense)              (None, 1)                 65        \n",
            "=================================================================\n",
            "Total params: 21,153\n",
            "Trainable params: 20,961\n",
            "Non-trainable params: 192\n",
            "_________________________________________________________________\n"
          ],
          "name": "stdout"
        }
      ]
    },
    {
      "cell_type": "code",
      "metadata": {
        "id": "WPE4TQnua0Ce"
      },
      "source": [
        "model.compile(optimizer=Adam(lr=0.001),loss=('binary_crossentropy'),metrics=['accuracy'])"
      ],
      "execution_count": 26,
      "outputs": []
    },
    {
      "cell_type": "code",
      "metadata": {
        "id": "pOIx8ol8bbdZ",
        "outputId": "5c8d4ad5-893f-4319-cfb6-35aed49166f0",
        "colab": {
          "base_uri": "https://localhost:8080/"
        }
      },
      "source": [
        "history=model.fit(x_train,y_train,epochs=epochs,validation_data=(x_test,y_test),verbose=1)"
      ],
      "execution_count": 27,
      "outputs": [
        {
          "output_type": "stream",
          "text": [
            "Epoch 1/25\n",
            "411/411 [==============================] - 1s 3ms/step - loss: 0.3193 - accuracy: 0.8613 - val_loss: 0.2852 - val_accuracy: 0.8981\n",
            "Epoch 2/25\n",
            "411/411 [==============================] - 1s 3ms/step - loss: 0.2370 - accuracy: 0.9020 - val_loss: 0.2212 - val_accuracy: 0.9051\n",
            "Epoch 3/25\n",
            "411/411 [==============================] - 1s 3ms/step - loss: 0.2109 - accuracy: 0.9088 - val_loss: 0.1847 - val_accuracy: 0.9136\n",
            "Epoch 4/25\n",
            "411/411 [==============================] - 1s 3ms/step - loss: 0.2040 - accuracy: 0.9135 - val_loss: 0.1649 - val_accuracy: 0.9224\n",
            "Epoch 5/25\n",
            "411/411 [==============================] - 1s 3ms/step - loss: 0.1898 - accuracy: 0.9177 - val_loss: 0.1805 - val_accuracy: 0.9124\n",
            "Epoch 6/25\n",
            "411/411 [==============================] - 1s 3ms/step - loss: 0.1805 - accuracy: 0.9218 - val_loss: 0.1661 - val_accuracy: 0.9209\n",
            "Epoch 7/25\n",
            "411/411 [==============================] - 1s 3ms/step - loss: 0.1772 - accuracy: 0.9253 - val_loss: 0.1777 - val_accuracy: 0.9175\n",
            "Epoch 8/25\n",
            "411/411 [==============================] - 1s 3ms/step - loss: 0.1755 - accuracy: 0.9235 - val_loss: 0.1629 - val_accuracy: 0.9197\n",
            "Epoch 9/25\n",
            "411/411 [==============================] - 1s 3ms/step - loss: 0.1710 - accuracy: 0.9289 - val_loss: 0.1524 - val_accuracy: 0.9224\n",
            "Epoch 10/25\n",
            "411/411 [==============================] - 1s 3ms/step - loss: 0.1643 - accuracy: 0.9294 - val_loss: 0.1567 - val_accuracy: 0.9251\n",
            "Epoch 11/25\n",
            "411/411 [==============================] - 1s 3ms/step - loss: 0.1671 - accuracy: 0.9278 - val_loss: 0.1791 - val_accuracy: 0.9151\n",
            "Epoch 12/25\n",
            "411/411 [==============================] - 1s 3ms/step - loss: 0.1629 - accuracy: 0.9304 - val_loss: 0.1643 - val_accuracy: 0.9184\n",
            "Epoch 13/25\n",
            "411/411 [==============================] - 1s 3ms/step - loss: 0.1629 - accuracy: 0.9285 - val_loss: 0.1373 - val_accuracy: 0.9306\n",
            "Epoch 14/25\n",
            "411/411 [==============================] - 1s 3ms/step - loss: 0.1585 - accuracy: 0.9346 - val_loss: 0.1372 - val_accuracy: 0.9394\n",
            "Epoch 15/25\n",
            "411/411 [==============================] - 1s 3ms/step - loss: 0.1573 - accuracy: 0.9340 - val_loss: 0.1764 - val_accuracy: 0.9054\n",
            "Epoch 16/25\n",
            "411/411 [==============================] - 1s 3ms/step - loss: 0.1517 - accuracy: 0.9374 - val_loss: 0.1623 - val_accuracy: 0.9160\n",
            "Epoch 17/25\n",
            "411/411 [==============================] - 1s 3ms/step - loss: 0.1530 - accuracy: 0.9361 - val_loss: 0.1438 - val_accuracy: 0.9355\n",
            "Epoch 18/25\n",
            "411/411 [==============================] - 1s 3ms/step - loss: 0.1505 - accuracy: 0.9372 - val_loss: 0.1476 - val_accuracy: 0.9257\n",
            "Epoch 19/25\n",
            "411/411 [==============================] - 1s 3ms/step - loss: 0.1472 - accuracy: 0.9374 - val_loss: 0.1438 - val_accuracy: 0.9209\n",
            "Epoch 20/25\n",
            "411/411 [==============================] - 1s 3ms/step - loss: 0.1446 - accuracy: 0.9384 - val_loss: 0.1259 - val_accuracy: 0.9346\n",
            "Epoch 21/25\n",
            "411/411 [==============================] - 1s 3ms/step - loss: 0.1441 - accuracy: 0.9425 - val_loss: 0.1740 - val_accuracy: 0.9096\n",
            "Epoch 22/25\n",
            "411/411 [==============================] - 1s 3ms/step - loss: 0.1450 - accuracy: 0.9422 - val_loss: 0.1663 - val_accuracy: 0.9066\n",
            "Epoch 23/25\n",
            "411/411 [==============================] - 1s 3ms/step - loss: 0.1452 - accuracy: 0.9374 - val_loss: 0.1208 - val_accuracy: 0.9367\n",
            "Epoch 24/25\n",
            "411/411 [==============================] - 1s 3ms/step - loss: 0.1396 - accuracy: 0.9435 - val_loss: 0.1819 - val_accuracy: 0.9054\n",
            "Epoch 25/25\n",
            "411/411 [==============================] - 1s 3ms/step - loss: 0.1431 - accuracy: 0.9404 - val_loss: 0.1968 - val_accuracy: 0.8904\n"
          ],
          "name": "stdout"
        }
      ]
    },
    {
      "cell_type": "code",
      "metadata": {
        "id": "VRJkxPH0QLVt"
      },
      "source": [
        ""
      ],
      "execution_count": 27,
      "outputs": []
    }
  ]
}